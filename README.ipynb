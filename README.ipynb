{
 "cells": [
  {
   "cell_type": "markdown",
   "id": "9f6af306-a609-43f3-9172-d99a21372d23",
   "metadata": {},
   "source": [
    "# Koala"
   ]
  },
  {
   "cell_type": "markdown",
   "id": "ff1b5348-e2a8-48a0-979a-800a6f2c2a3b",
   "metadata": {},
   "source": [
    "Testez facilement et rapidement des régressions linéaires, puissances, et exponentielles, avec affichage graphique."
   ]
  },
  {
   "cell_type": "markdown",
   "id": "23892820-6f18-4c62-a44e-241a952601ba",
   "metadata": {
    "tags": []
   },
   "source": [
    "### Importer matplotlib.pyplot\n",
    "\n",
    "Si vous êtes dans jupyter:"
   ]
  },
  {
   "cell_type": "code",
   "execution_count": 1,
   "id": "d17a9b14-84fb-4e70-a7fb-e87423706d58",
   "metadata": {
    "tags": []
   },
   "outputs": [],
   "source": [
    "%config Completer.use_jedi = False\n",
    "%matplotlib inline\n",
    "\n",
    "import matplotlib.pyplot as plt"
   ]
  },
  {
   "cell_type": "markdown",
   "id": "29d29ac5-5cf0-4348-bfc6-e835aadf430b",
   "metadata": {
    "tags": []
   },
   "source": [
    "Si vous travaillez en console linux sans interface graphique:"
   ]
  },
  {
   "cell_type": "code",
   "execution_count": 2,
   "id": "b4b17585-f996-4835-a49a-23e82b734717",
   "metadata": {
    "tags": []
   },
   "outputs": [],
   "source": [
    "#import matplotlib\n",
    "#import os\n",
    "\n",
    "#if \"DISPLAY\" not in os.environ:\n",
    "    \n",
    "    #matplotlib.use(\"Agg\")\n",
    "\n",
    "#import matplotlib.pyplot as plt"
   ]
  },
  {
   "cell_type": "markdown",
   "id": "2b8e0dc3-d3d6-4a77-a904-6167f7f07499",
   "metadata": {},
   "source": [
    "Modification de l´apparence des graphiques pour permettre l´export depuis Jupyter en html / markdown dark theme, tout en conservant les axes visibles :"
   ]
  },
  {
   "cell_type": "code",
   "execution_count": 3,
   "id": "c7df6dec-4134-4ee9-af99-fdb2067e9c63",
   "metadata": {},
   "outputs": [],
   "source": [
    "plt.style.use('seaborn-white') # blanc\n",
    "\n",
    "#plt.style.use('dark_background') # noir"
   ]
  },
  {
   "cell_type": "markdown",
   "id": "bfcefd90-9687-4a7b-85e9-bb59574e6d1f",
   "metadata": {},
   "source": [
    "On importe ensuite pandas, numpy et koala"
   ]
  },
  {
   "cell_type": "code",
   "execution_count": 4,
   "id": "fd6266ef-3e5c-47e2-9b8e-f8e6bdc1ab9f",
   "metadata": {
    "tags": []
   },
   "outputs": [],
   "source": [
    "import pandas as pd\n",
    "import numpy as np\n",
    "\n",
    "from koala import Koala"
   ]
  },
  {
   "cell_type": "code",
   "execution_count": 5,
   "id": "3b8ac2e0-e7ea-499b-9885-bab8dfde88fc",
   "metadata": {
    "tags": []
   },
   "outputs": [
    {
     "name": "stdout",
     "output_type": "stream",
     "text": [
      "   x   y\n",
      "0  1   6\n",
      "1  2   8\n",
      "2  3  10\n",
      "3  4  12\n",
      "4  5  14\n",
      "5  6  16\n",
      "6  7  18\n",
      "7  8  20\n",
      "8  9  22\n"
     ]
    }
   ],
   "source": [
    "x = np.arange(10)\n",
    "\n",
    "y = 2*x + 4\n",
    "\n",
    "kf = Koala({\"x\":x[1:], \"y\":y[1:]})\n",
    "\n",
    "print(kf)"
   ]
  },
  {
   "cell_type": "markdown",
   "id": "80e9070c-00a8-4276-a000-10348e962ebd",
   "metadata": {},
   "source": [
    "## Régression linéaire\n",
    "\n",
    "On utilise la méthode 'lin' pour effectuer une régression linéaire:"
   ]
  },
  {
   "cell_type": "code",
   "execution_count": 6,
   "id": "bce143d2-169c-4e44-9237-99418b4ba7c6",
   "metadata": {
    "tags": []
   },
   "outputs": [
    {
     "data": {
      "image/png": "[encoded data removed]",
      "text/plain": [
       "<Figure size 432x288 with 1 Axes>"
      ]
     },
     "metadata": {},
     "output_type": "display_data"
    }
   ],
   "source": [
    "lin = kf.lin(\"x\", \"y\")"
   ]
  },
  {
   "cell_type": "code",
   "execution_count": 7,
   "id": "a4a3de64-d8fd-4560-a9d3-e421f9ed620a",
   "metadata": {
    "tags": []
   },
   "outputs": [
    {
     "data": {
      "text/plain": [
       "AttrDict({'a': 2.000000000000001, 'b': 4.0, 'r': 1.0, 'equation': 'y = 2.0x + 4.0', 'fig': <Figure size 432x288 with 1 Axes>, 'graph': <matplotlib.axes._subplots.AxesSubplot object at 0x6d650d50>})"
      ]
     },
     "execution_count": 7,
     "metadata": {},
     "output_type": "execute_result"
    }
   ],
   "source": [
    "lin"
   ]
  },
  {
   "cell_type": "code",
   "execution_count": 8,
   "id": "7b1d8107-92a6-42ff-834d-c2b744819053",
   "metadata": {},
   "outputs": [
    {
     "data": {
      "text/plain": [
       "<matplotlib.legend.Legend at 0x6d6187b0>"
      ]
     },
     "execution_count": 8,
     "metadata": {},
     "output_type": "execute_result"
    }
   ],
   "source": [
    "lin.graph.set_xlabel(\"abscisses\")\n",
    "lin.graph.set_ylabel(\"ordonnées\")\n",
    "lin.graph.set_title(\"mon titre\")\n",
    "lin.graph.legend(fontsize=10)"
   ]
  },
  {
   "cell_type": "code",
   "execution_count": 9,
   "id": "b955beaa-3b6c-4496-a90c-b0ca14ce00fe",
   "metadata": {},
   "outputs": [
    {
     "data": {
      "image/png": "[encoded data removed]",
      "text/plain": [
       "<Figure size 432x288 with 1 Axes>"
      ]
     },
     "execution_count": 9,
     "metadata": {},
     "output_type": "execute_result"
    }
   ],
   "source": [
    "lin.fig"
   ]
  },
  {
   "cell_type": "markdown",
   "id": "28dd3448-82a2-4d9f-8d9b-50d53f2a439c",
   "metadata": {},
   "source": [
    "## Régressions puissance et exponentielle\n",
    "\n",
    "Pour réaliser une régression puissance, utilisez la méthode 'pwr':\n",
    "\n",
    "    pwr = kf.pwr(\"x\", \"y\")\n",
    "\n",
    "Pour réaliser une régression exponentielle, utilisez la méthode 'exp':\n",
    "\n",
    "    exp = kf.exp(\"x\", \"y\")\n",
    "    \n",
    "La méthode 'reg' permet de réaliser les 3 régressions (lin, pwr et exp) en une seule fois:"
   ]
  },
  {
   "cell_type": "code",
   "execution_count": 10,
   "id": "4fd8d07d-a80b-43bc-b17d-796ea9abdb6c",
   "metadata": {
    "tags": []
   },
   "outputs": [
    {
     "data": {
      "image/png": "[encoded data removed]",
      "text/plain": [
       "<Figure size 432x288 with 4 Axes>"
      ]
     },
     "metadata": {},
     "output_type": "display_data"
    }
   ],
   "source": [
    "r = kf.reg(\"x\",\"y\")"
   ]
  },
  {
   "cell_type": "code",
   "execution_count": 11,
   "id": "a1d9473e-a1db-4a9b-bd1f-b4fdec6c315c",
   "metadata": {
    "tags": []
   },
   "outputs": [
    {
     "data": {
      "text/plain": [
       "AttrDict({'fig': <Figure size 432x288 with 4 Axes>, 'lin': AttrDict({'a': 2.000000000000001, 'b': 4.0, 'r': 1.0, 'equation': 'y = 2.0x + 4.0', 'fig': <Figure size 432x288 with 1 Axes>, 'graph': <matplotlib.axes._subplots.AxesSubplot object at 0x6d52a430>}), 'exp': AttrDict({'a': 5.910478175636692, 'b': 0.15682099223999219, 'r': 0.9835038872887962, 'equation': 'y = 5.91 *exp(0.16x)', 'fig': <Figure size 432x288 with 1 Axes>, 'graph': <matplotlib.axes._subplots.AxesSubplot object at 0x6d58c9f0>}), 'pwr': AttrDict({'a': 5.495458089762599, 'b': 0.6024286578942702, 'r': 0.9922794506535199, 'equation': 'y = 5.5 * x^0.6', 'fig': <Figure size 432x288 with 1 Axes>, 'graph': <matplotlib.axes._subplots.AxesSubplot object at 0x6d5aefb0>}), 'g1': <matplotlib.axes._subplots.AxesSubplot object at 0x6d4e3490>, 'g2': <matplotlib.axes._subplots.AxesSubplot object at 0x6d480cf0>, 'g3': <matplotlib.axes._subplots.AxesSubplot object at 0x6d4a4c70>, 'g4': <matplotlib.axes._subplots.AxesSubplot object at 0x6d448e30>})"
      ]
     },
     "execution_count": 11,
     "metadata": {},
     "output_type": "execute_result"
    }
   ],
   "source": [
    "r"
   ]
  },
  {
   "cell_type": "markdown",
   "id": "a5f01ba4-ffce-4cee-be04-1f4cfb35db48",
   "metadata": {},
   "source": [
    "La méthode 'reg' renvoie un dictionnaire au format attrdict qui permet de modifier les graphiques et de récupérer les coefficients de corrélations et les équations:"
   ]
  },
  {
   "cell_type": "code",
   "execution_count": 12,
   "id": "74f850dc-4cbb-4a5e-8a72-3514b63f1325",
   "metadata": {
    "tags": []
   },
   "outputs": [
    {
     "data": {
      "text/plain": [
       "<bound method Artist.set of <matplotlib.axes._subplots.AxesSubplot object at 0x6d480cf0>>"
      ]
     },
     "execution_count": 12,
     "metadata": {},
     "output_type": "execute_result"
    }
   ],
   "source": [
    "r.g2.set_xlabel(\"abscisses\")\n",
    "r.g2.set_ylabel(\"ordonnées\")\n",
    "r.g2.set"
   ]
  },
  {
   "cell_type": "code",
   "execution_count": 13,
   "id": "029270bb-0601-49de-861a-8233ad2879f9",
   "metadata": {
    "tags": []
   },
   "outputs": [
    {
     "data": {
      "image/png": "[encoded data removed]",
      "text/plain": [
       "<Figure size 432x288 with 4 Axes>"
      ]
     },
     "execution_count": 13,
     "metadata": {},
     "output_type": "execute_result"
    }
   ],
   "source": [
    "r.fig"
   ]
  },
  {
   "cell_type": "markdown",
   "id": "13e8a4f7-5c1b-4dcb-936c-bca9c2f99e94",
   "metadata": {},
   "source": [
    "On récupère l'équation de la régression linéaire:"
   ]
  },
  {
   "cell_type": "code",
   "execution_count": 14,
   "id": "2a52ff57-f748-4fb8-91cb-4b2d7a7aba87",
   "metadata": {
    "tags": []
   },
   "outputs": [
    {
     "data": {
      "text/plain": [
       "'y = 2.0x + 4.0'"
      ]
     },
     "execution_count": 14,
     "metadata": {},
     "output_type": "execute_result"
    }
   ],
   "source": [
    "r.lin.equation"
   ]
  },
  {
   "cell_type": "markdown",
   "id": "20fc7353-0c05-40c9-a4fb-d79b8d144ad5",
   "metadata": {
    "tags": []
   },
   "source": [
    "On récupère le coefficient de corrélation de la régression linéaire:"
   ]
  },
  {
   "cell_type": "code",
   "execution_count": 15,
   "id": "27b588c1-eee8-4732-984c-c9b512c107b9",
   "metadata": {
    "tags": []
   },
   "outputs": [
    {
     "data": {
      "text/plain": [
       "1.0"
      ]
     },
     "execution_count": 15,
     "metadata": {},
     "output_type": "execute_result"
    }
   ],
   "source": [
    "r.lin.r"
   ]
  }
 ],
 "metadata": {
  "kernelspec": {
   "display_name": "Python 3",
   "language": "python",
   "name": "python3"
  },
  "language_info": {
   "codemirror_mode": {
    "name": "ipython",
    "version": 3
   },
   "file_extension": ".py",
   "mimetype": "text/x-python",
   "name": "python",
   "nbconvert_exporter": "python",
   "pygments_lexer": "ipython3",
   "version": "3.6.5"
  }
 },
 "nbformat": 4,
 "nbformat_minor": 5
}
